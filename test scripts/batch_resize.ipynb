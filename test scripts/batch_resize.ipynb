{
 "metadata": {
  "name": "batch_resize.ipynb"
 },
 "nbformat": 3,
 "nbformat_minor": 0,
 "worksheets": [
  {
   "cells": [
    {
     "cell_type": "heading",
     "level": 1,
     "metadata": {},
     "source": [
      "Directory parse"
     ]
    },
    {
     "cell_type": "code",
     "collapsed": false,
     "input": [
      "import glob\n",
      "import Image\n",
      "\n",
      "path = \"D:\\\\Dropbox\\\\ankur\\\\BookWorm\\\\small\\\\\"\n",
      "\n",
      "#jpegList = glob.glob(path+\"*.jpg\")\n",
      "#gifList = glob.glob(path+\"*.gif\")\n",
      "pngList = glob.glob(path+\"*.png\")\n",
      "\n",
      "print size(pngList)\n",
      "\n",
      "\n",
      "\n",
      "count = 0\n",
      "for each in pngList:\n",
      "    im = Image.open(each)\n",
      "    nx,ny = im.size\n",
      "    #print (nx,ny)   \n",
      "    img = im.resize((int(nx*5), int(ny*5)), Image.BICUBIC)\n",
      "    name = str(count)\n",
      "    img.save(each+\"_resized_58.png\",dpi=(2500,2500))\n",
      "    count += 1\n",
      "\n",
      "print count\n",
      "    \n"
     ],
     "language": "python",
     "metadata": {},
     "outputs": [
      {
       "output_type": "stream",
       "stream": "stdout",
       "text": [
        "306\n",
        "(15, 13)\n",
        "(21, 19)\n",
        "(21, 19)\n",
        "(18, 20)"
       ]
      },
      {
       "output_type": "stream",
       "stream": "stdout",
       "text": [
        "\n",
        "(18, 20)\n",
        "(12, 26)\n",
        "(14, 27)"
       ]
      },
      {
       "output_type": "stream",
       "stream": "stdout",
       "text": [
        "\n",
        "(12, 27)"
       ]
      },
      {
       "output_type": "stream",
       "stream": "stdout",
       "text": [
        "\n",
        "(12, 27)\n",
        "(13, 27)\n",
        "(12, 22)"
       ]
      },
      {
       "output_type": "stream",
       "stream": "stdout",
       "text": [
        "\n",
        "(16, 13)\n",
        "(22, 19)\n",
        "(19, 20)\n",
        "(22, 20)\n",
        "(16, 19)\n",
        "(16, 19)"
       ]
      },
      {
       "output_type": "stream",
       "stream": "stdout",
       "text": [
        "\n",
        "(16, 19)\n",
        "(16, 19)\n",
        "(16, 20)\n",
        "(15, 16)\n",
        "(12, 13)"
       ]
      },
      {
       "output_type": "stream",
       "stream": "stdout",
       "text": [
        "\n",
        "(19, 19)\n",
        "(17, 20)\n",
        "(14, 21)\n",
        "(12, 19)\n",
        "(13, 19)\n",
        "(12, 19)\n",
        "(12, 19)\n",
        "(12, 20)"
       ]
      },
      {
       "output_type": "stream",
       "stream": "stdout",
       "text": [
        "\n",
        "(13, 16)\n",
        "(13, 15)\n",
        "(20, 19)\n",
        "(18, 20)\n",
        "(13, 21)"
       ]
      },
      {
       "output_type": "stream",
       "stream": "stdout",
       "text": [
        "\n",
        "(17, 21)\n",
        "(16, 21)\n",
        "(13, 21)\n",
        "(13, 21)\n",
        "(16, 22)"
       ]
      },
      {
       "output_type": "stream",
       "stream": "stdout",
       "text": [
        "\n",
        "(13, 17)\n",
        "(16, 13)\n",
        "(23, 19)\n",
        "(21, 20)"
       ]
      },
      {
       "output_type": "stream",
       "stream": "stdout",
       "text": [
        "\n",
        "(16, 20)\n",
        "(16, 20)\n",
        "(14, 21)\n",
        "(16, 20)\n",
        "(16, 20)\n",
        "(16, 20)\n",
        "(16, 16)\n",
        "(14, 15)"
       ]
      },
      {
       "output_type": "stream",
       "stream": "stdout",
       "text": [
        "\n",
        "(21, 19)\n",
        "(19, 20)\n",
        "(14, 21)\n",
        "(17, 21)\n",
        "(14, 21)\n",
        "(14, 21)\n",
        "(14, 21)\n",
        "(17, 22)"
       ]
      },
      {
       "output_type": "stream",
       "stream": "stdout",
       "text": [
        "\n",
        "(14, 17)\n",
        "(12, 14)\n",
        "(18, 20)\n",
        "(18, 21)"
       ]
      },
      {
       "output_type": "stream",
       "stream": "stdout",
       "text": [
        "\n",
        "(13, 19)\n",
        "(16, 19)\n",
        "(12, 19)\n",
        "(12, 19)\n",
        "(17, 22)"
       ]
      },
      {
       "output_type": "stream",
       "stream": "stdout",
       "text": [
        "\n",
        "(16, 20)\n",
        "(12, 15)\n",
        "(12, 15)\n",
        "(19, 19)\n",
        "(17, 20)\n",
        "(12, 21)\n",
        "(15, 22)"
       ]
      },
      {
       "output_type": "stream",
       "stream": "stdout",
       "text": [
        "\n",
        "(12, 22)\n",
        "(12, 22)\n",
        "(15, 22)\n",
        "(14, 17)\n",
        "(12, 17)"
       ]
      },
      {
       "output_type": "stream",
       "stream": "stdout",
       "text": [
        "\n",
        "(14, 13)\n",
        "(20, 19)\n",
        "(19, 20)\n",
        "(14, 19)\n",
        "(17, 19)\n",
        "(14, 19)\n",
        "(14, 19)"
       ]
      },
      {
       "output_type": "stream",
       "stream": "stdout",
       "text": [
        "\n",
        "(16, 20)\n",
        "(14, 15)\n",
        "(14, 15)\n",
        "(14, 15)"
       ]
      },
      {
       "output_type": "stream",
       "stream": "stdout",
       "text": [
        "\n",
        "(21, 19)\n",
        "(20, 20)\n",
        "(15, 21)\n",
        "(18, 21)\n",
        "(14, 21)\n",
        "(14, 21)\n",
        "(17, 22)\n",
        "(14, 17)"
       ]
      },
      {
       "output_type": "stream",
       "stream": "stdout",
       "text": [
        "\n",
        "(16, 14)\n",
        "(21, 19)\n",
        "(22, 20)\n",
        "(22, 21)\n",
        "(16, 19)\n",
        "(16, 20)\n",
        "(16, 20)\n",
        "(16, 20)"
       ]
      },
      {
       "output_type": "stream",
       "stream": "stdout",
       "text": [
        "\n",
        "(16, 20)\n",
        "(16, 15)\n",
        "(12, 13)\n",
        "(19, 19)"
       ]
      },
      {
       "output_type": "stream",
       "stream": "stdout",
       "text": [
        "\n",
        "(21, 20)\n",
        "(19, 20)\n",
        "(17, 20)\n",
        "(12, 19)"
       ]
      },
      {
       "output_type": "stream",
       "stream": "stdout",
       "text": [
        "\n",
        "(15, 19)\n",
        "(12, 19)\n",
        "(12, 19)\n",
        "(15, 20)\n",
        "(12, 15)\n",
        "(17, 14)"
       ]
      },
      {
       "output_type": "stream",
       "stream": "stdout",
       "text": [
        "\n",
        "(23, 20)\n",
        "(22, 21)\n",
        "(17, 15)\n",
        "(17, 20)\n",
        "(17, 20)\n",
        "(17, 20)\n",
        "(17, 20)"
       ]
      },
      {
       "output_type": "stream",
       "stream": "stdout",
       "text": [
        "\n",
        "(17, 20)\n",
        "(17, 16)\n",
        "(12, 13)"
       ]
      },
      {
       "output_type": "stream",
       "stream": "stdout",
       "text": [
        "\n",
        "(19, 19)\n",
        "(17, 20)"
       ]
      },
      {
       "output_type": "stream",
       "stream": "stdout",
       "text": [
        "\n",
        "(12, 19)\n",
        "(17, 21)\n",
        "(15, 19)\n",
        "(12, 19)\n",
        "(12, 19)\n",
        "(14, 20)"
       ]
      },
      {
       "output_type": "stream",
       "stream": "stdout",
       "text": [
        "\n",
        "(12, 15)\n",
        "(13, 13)\n",
        "(19, 19)\n",
        "(19, 20)\n",
        "(14, 19)\n",
        "(16, 19)"
       ]
      },
      {
       "output_type": "stream",
       "stream": "stdout",
       "text": [
        "\n",
        "(14, 21)\n",
        "(13, 19)\n",
        "(13, 19)"
       ]
      },
      {
       "output_type": "stream",
       "stream": "stdout",
       "text": [
        "\n",
        "(16, 20)\n",
        "(14, 13)\n",
        "(12, 13)\n",
        "(19, 19)\n",
        "(17, 20)\n",
        "(16, 13)\n",
        "(16, 14)"
       ]
      },
      {
       "output_type": "stream",
       "stream": "stdout",
       "text": [
        "\n",
        "(12, 19)\n",
        "(14, 21)\n",
        "(12, 19)\n",
        "(15, 20)\n",
        "(12, 15)"
       ]
      },
      {
       "output_type": "stream",
       "stream": "stdout",
       "text": [
        "\n",
        "(17, 13)\n",
        "(23, 19)\n",
        "(22, 20)\n",
        "(17, 19)\n",
        "(20, 19)\n",
        "(17, 19)\n",
        "(17, 19)"
       ]
      },
      {
       "output_type": "stream",
       "stream": "stdout",
       "text": [
        "\n",
        "(17, 22)\n",
        "(19, 20)\n",
        "(17, 15)\n",
        "(14, 15)"
       ]
      },
      {
       "output_type": "stream",
       "stream": "stdout",
       "text": [
        "\n",
        "(20, 19)\n",
        "(19, 20)\n",
        "(17, 15)\n",
        "(17, 21)"
       ]
      },
      {
       "output_type": "stream",
       "stream": "stdout",
       "text": [
        "\n",
        "(14, 21)\n",
        "(14, 21)"
       ]
      },
      {
       "output_type": "stream",
       "stream": "stdout",
       "text": [
        "\n",
        "(17, 22)\n",
        "(14, 17)"
       ]
      },
      {
       "output_type": "stream",
       "stream": "stdout",
       "text": [
        "\n",
        "(14, 17)\n",
        "(12, 13)\n",
        "(19, 19)\n",
        "(17, 20)\n",
        "(12, 19)\n",
        "(15, 19)"
       ]
      },
      {
       "output_type": "stream",
       "stream": "stdout",
       "text": [
        "\n",
        "(12, 19)\n",
        "(12, 19)\n",
        "(15, 20)\n",
        "(12, 15)"
       ]
      },
      {
       "output_type": "stream",
       "stream": "stdout",
       "text": [
        "\n",
        "(13, 13)\n",
        "(14, 13)"
       ]
      },
      {
       "output_type": "stream",
       "stream": "stdout",
       "text": [
        "\n",
        "(21, 19)\n",
        "(19, 20)\n",
        "(14, 19)\n",
        "(17, 19)\n",
        "(14, 19)\n",
        "(14, 19)\n",
        "(17, 20)"
       ]
      },
      {
       "output_type": "stream",
       "stream": "stdout",
       "text": [
        "\n",
        "(14, 15)\n",
        "(13, 16)\n",
        "(20, 19)\n",
        "(19, 22)\n",
        "(18, 23)"
       ]
      },
      {
       "output_type": "stream",
       "stream": "stdout",
       "text": [
        "\n",
        "(15, 15)\n",
        "(15, 19)\n",
        "(17, 16)\n",
        "(13, 19)\n",
        "(12, 20)\n",
        "(13, 16)\n",
        "(13, 13)\n",
        "(19, 19)\n",
        "(18, 20)"
       ]
      },
      {
       "output_type": "stream",
       "stream": "stdout",
       "text": [
        "\n",
        "(19, 20)\n",
        "(14, 19)\n",
        "(16, 19)\n",
        "(13, 19)\n",
        "(13, 19)\n",
        "(16, 20)\n",
        "(14, 13)\n",
        "(14, 13)"
       ]
      },
      {
       "output_type": "stream",
       "stream": "stdout",
       "text": [
        "\n",
        "(20, 19)\n",
        "(19, 20)"
       ]
      },
      {
       "output_type": "stream",
       "stream": "stdout",
       "text": [
        "\n",
        "(15, 19)\n",
        "(13, 19)\n",
        "(14, 19)"
       ]
      },
      {
       "output_type": "stream",
       "stream": "stdout",
       "text": [
        "\n",
        "(17, 19)\n",
        "(14, 19)\n",
        "(14, 19)"
       ]
      },
      {
       "output_type": "stream",
       "stream": "stdout",
       "text": [
        "\n",
        "(16, 20)\n",
        "(29, 17)\n",
        "(16, 19)"
       ]
      },
      {
       "output_type": "stream",
       "stream": "stdout",
       "text": [
        "\n",
        "(13, 19)\n",
        "(13, 19)\n",
        "(16, 20)\n",
        "(13, 15)\n",
        "(14, 15)\n",
        "(21, 20)"
       ]
      },
      {
       "output_type": "stream",
       "stream": "stdout",
       "text": [
        "\n",
        "(21, 21)\n",
        "(14, 21)"
       ]
      },
      {
       "output_type": "stream",
       "stream": "stdout",
       "text": [
        "\n",
        "(15, 20)\n",
        "(15, 21)\n",
        "(14, 21)\n",
        "(14, 21)"
       ]
      },
      {
       "output_type": "stream",
       "stream": "stdout",
       "text": [
        "\n",
        "(14, 21)\n",
        "(14, 17)\n",
        "(13, 13)\n",
        "(19, 19)\n",
        "(18, 20)\n",
        "(13, 19)"
       ]
      },
      {
       "output_type": "stream",
       "stream": "stdout",
       "text": [
        "\n",
        "(14, 20)\n",
        "(15, 20)\n",
        "(13, 20)\n",
        "(13, 20)"
       ]
      },
      {
       "output_type": "stream",
       "stream": "stdout",
       "text": [
        "\n",
        "(12, 20)\n",
        "(13, 15)"
       ]
      },
      {
       "output_type": "stream",
       "stream": "stdout",
       "text": [
        "\n",
        "(14, 16)"
       ]
      },
      {
       "output_type": "stream",
       "stream": "stdout",
       "text": [
        "\n",
        "(21, 22)\n",
        "(18, 23)\n",
        "(14, 19)"
       ]
      },
      {
       "output_type": "stream",
       "stream": "stdout",
       "text": [
        "\n",
        "(15, 20)\n",
        "(14, 20)\n",
        "(15, 20)\n",
        "(14, 20)\n",
        "(14, 19)"
       ]
      },
      {
       "output_type": "stream",
       "stream": "stdout",
       "text": [
        "\n",
        "(14, 16)\n",
        "(20, 13)\n",
        "(26, 19)\n",
        "(25, 20)\n",
        "(21, 20)"
       ]
      },
      {
       "output_type": "stream",
       "stream": "stdout",
       "text": [
        "\n",
        "(23, 20)\n",
        "(20, 20)\n",
        "(20, 20)"
       ]
      },
      {
       "output_type": "stream",
       "stream": "stdout",
       "text": [
        "\n",
        "(15, 20)\n",
        "(23, 20)\n",
        "(20, 16)"
       ]
      },
      {
       "output_type": "stream",
       "stream": "stdout",
       "text": [
        "\n",
        "(17, 15)\n",
        "(23, 19)\n",
        "(22, 20)"
       ]
      },
      {
       "output_type": "stream",
       "stream": "stdout",
       "text": [
        "\n",
        "(17, 21)\n",
        "(17, 21)\n",
        "(17, 21)\n",
        "(17, 21)\n",
        "(17, 22)"
       ]
      },
      {
       "output_type": "stream",
       "stream": "stdout",
       "text": [
        "\n",
        "(15, 15)\n",
        "(17, 17)\n",
        "(19, 14)\n",
        "(27, 19)\n",
        "(26, 20)"
       ]
      },
      {
       "output_type": "stream",
       "stream": "stdout",
       "text": [
        "\n",
        "(19, 20)\n",
        "(19, 21)\n",
        "(19, 21)\n",
        "(19, 21)\n",
        "(19, 21)"
       ]
      },
      {
       "output_type": "stream",
       "stream": "stdout",
       "text": [
        "\n",
        "(19, 17)\n",
        "(14, 15)\n",
        "(13, 20)\n",
        "(19, 20)\n",
        "(18, 20)\n",
        "(13, 26)\n",
        "(14, 26)"
       ]
      },
      {
       "output_type": "stream",
       "stream": "stdout",
       "text": [
        "\n",
        "(13, 26)\n",
        "(13, 26)\n",
        "(12, 27)\n",
        "(13, 22)"
       ]
      },
      {
       "output_type": "stream",
       "stream": "stdout",
       "text": [
        "\n",
        "(12, 20)\n",
        "306\n"
       ]
      }
     ],
     "prompt_number": 5
    },
    {
     "cell_type": "code",
     "collapsed": false,
     "input": [],
     "language": "python",
     "metadata": {},
     "outputs": []
    }
   ],
   "metadata": {}
  }
 ]
}