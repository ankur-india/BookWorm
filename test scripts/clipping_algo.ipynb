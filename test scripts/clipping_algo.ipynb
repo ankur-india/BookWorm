{
 "metadata": {
  "name": "clipping_algo.ipynb"
 },
 "nbformat": 3,
 "nbformat_minor": 0,
 "worksheets": [
  {
   "cells": [
    {
     "cell_type": "heading",
     "level": 1,
     "metadata": {},
     "source": [
      "Read Image"
     ]
    },
    {
     "cell_type": "code",
     "collapsed": false,
     "input": [
      "from PIL import Image, ImageDraw\n",
      "import numpy as np\n",
      "import csv as csv\n",
      "\n",
      "#open image and convert to hsv\n",
      "im = Image.open(\"D:\\\\Dropbox\\\\ankur\\\\pixel_tests\\\\test.png\")\n",
      "im2 = im.convert(mode = \"L\")\n",
      "#print im2.mode\n",
      "\n",
      "nx,ny =  im2.size\n",
      "#whitePixel = []\n",
      "blackPixel = []\n",
      "\n",
      "i = 1\n",
      "#chech the pixels\n",
      "for y in range(ny):\n",
      "    whiteCount = 0\n",
      "    blackCount = 0\n",
      "    for x in range(nx):\n",
      "        xy = (x,y)\n",
      "        pix = im2.getpixel(xy)\n",
      "        if pix == 255: #255 is for white\n",
      "            #whitePixel.append(xy)\n",
      "            whiteCount += 1\n",
      "            #im2.putpixel(xy,1) #used to crudely invert the image\n",
      "        else :\n",
      "            blackCount += 1\n",
      "            #blackPixel.append(xy)\n",
      "    if blackCount >= (0.05 *nx):\n",
      "        blackPixel.append((i,y,blackCount))\n",
      "        i = i +1\n",
      "\n",
      "file = csv.writer(open(\"D:\\\\Dropbox\\\\ankur\\\\pixel_tests\\\\test.csv\",\"wb\"))\n",
      "\n",
      "for each in blackPixel:\n",
      "    file.writerow(each)\n"
     ],
     "language": "python",
     "metadata": {},
     "outputs": [
      {
       "ename": "IOError",
       "evalue": "[Errno 13] Permission denied: 'D:\\\\Dropbox\\\\ankur\\\\pixel_tests\\\\test.csv'",
       "output_type": "pyerr",
       "traceback": [
        "\u001b[1;31m---------------------------------------------------------------------------\u001b[0m\n\u001b[1;31mIOError\u001b[0m                                   Traceback (most recent call last)",
        "\u001b[1;32m<ipython-input-6-e43445f419af>\u001b[0m in \u001b[0;36m<module>\u001b[1;34m()\u001b[0m\n\u001b[0;32m     31\u001b[0m         \u001b[0mi\u001b[0m \u001b[1;33m=\u001b[0m \u001b[0mi\u001b[0m \u001b[1;33m+\u001b[0m\u001b[1;36m1\u001b[0m\u001b[1;33m\u001b[0m\u001b[0m\n\u001b[0;32m     32\u001b[0m \u001b[1;33m\u001b[0m\u001b[0m\n\u001b[1;32m---> 33\u001b[1;33m \u001b[0mfile\u001b[0m \u001b[1;33m=\u001b[0m \u001b[0mcsv\u001b[0m\u001b[1;33m.\u001b[0m\u001b[0mwriter\u001b[0m\u001b[1;33m(\u001b[0m\u001b[0mopen\u001b[0m\u001b[1;33m(\u001b[0m\u001b[1;34m\"D:\\\\Dropbox\\\\ankur\\\\pixel_tests\\\\test.csv\"\u001b[0m\u001b[1;33m,\u001b[0m\u001b[1;34m\"wb\"\u001b[0m\u001b[1;33m)\u001b[0m\u001b[1;33m)\u001b[0m\u001b[1;33m\u001b[0m\u001b[0m\n\u001b[0m\u001b[0;32m     34\u001b[0m \u001b[1;33m\u001b[0m\u001b[0m\n\u001b[0;32m     35\u001b[0m \u001b[1;32mfor\u001b[0m \u001b[0meach\u001b[0m \u001b[1;32min\u001b[0m \u001b[0mblackPixel\u001b[0m\u001b[1;33m:\u001b[0m\u001b[1;33m\u001b[0m\u001b[0m\n",
        "\u001b[1;31mIOError\u001b[0m: [Errno 13] Permission denied: 'D:\\\\Dropbox\\\\ankur\\\\pixel_tests\\\\test.csv'"
       ]
      }
     ],
     "prompt_number": 6
    },
    {
     "cell_type": "heading",
     "level": 1,
     "metadata": {},
     "source": [
      "Detect Line"
     ]
    },
    {
     "cell_type": "code",
     "collapsed": false,
     "input": [
      "import numpy as np\n",
      "import csv as csv\n",
      "from operator import itemgetter\n",
      "\n",
      "file = csv.reader(open(\"D:\\\\Dropbox\\\\ankur\\\\pixel_tests\\\\test.csv\",\"rb\"))\n",
      "data = []\n",
      "for row in file:\n",
      "    data.append(row)\n",
      "\n",
      "upIndex = []\n",
      "downIndex = []\n",
      "prev = int(data[0][1]) -1\n",
      "index = int(data[0][0])\n",
      "downIndex.append(index)\n",
      "\n",
      "#find indices of white gaps around and between lines\n",
      "for row in data:\n",
      "    if prev == int(row[1])-1 :\n",
      "        prev = int(row[1])\n",
      "        index = int(row[0])\n",
      "        \n",
      "    else :\n",
      "        upIndex.append(index)\n",
      "        downIndex.append(index+1)\n",
      "        prev = int(row[1])\n",
      "\n",
      "l = len(data) -1\n",
      "index = int(data[l][0])\n",
      "upIndex.append(index)\n",
      "\n",
      "dark = []\n",
      "size = np.size(upIndex)\n",
      "\n",
      "for i in range(size):\n",
      "    low = downIndex[i]\n",
      "    high = int(upIndex[i])+1\n",
      "    g = []\n",
      "    k = []\n",
      "    print (low,high)\n",
      "    g = data[low:high]\n",
      "    #print g\n",
      "    #k = sorted(g, key=lambda g:g[2]) # method a\n",
      "    '''\n",
      "    k=0\n",
      "    for row in g:\n",
      "       if k < row[2]:\n",
      "            k = row[2]\n",
      "            item = row\n",
      "    print item #method b\n",
      "    '''\n",
      "    k = min(g, key =itemgetter(2)) #method c\n",
      "    dark.append(k)\n",
      "    \n",
      "print dark\n",
      "#write dark-line y-coordinates and pixelcount to a file\n",
      "file2 = csv.writer(open(\"D:\\\\Dropbox\\\\ankur\\\\pixel_tests\\\\test_dark.csv\",\"wb\"))\n",
      "for each in dark:\n",
      "    file2.writerow(each)"
     ],
     "language": "python",
     "metadata": {},
     "outputs": [
      {
       "output_type": "stream",
       "stream": "stdout",
       "text": [
        "(1, 49)\n",
        "[['46', '62', '169']]\n"
       ]
      }
     ],
     "prompt_number": 9
    },
    {
     "cell_type": "heading",
     "level": 1,
     "metadata": {},
     "source": [
      "Whitewash"
     ]
    },
    {
     "cell_type": "code",
     "collapsed": false,
     "input": [
      "from PIL import Image, ImageDraw\n",
      "import numpy as np\n",
      "import csv as csv\n",
      "\n",
      "#open dark-line coordinates\n",
      "file = csv.reader(open(\"D:\\\\Dropbox\\\\ankur\\\\pixel_tests\\\\test_dark.csv\",\"rb\"))\n",
      "data = []\n",
      "for row in file:\n",
      "    data.append(row[1])\n",
      "\n",
      "#open image and convert to hsv\n",
      "im = Image.open(\"D:\\\\Dropbox\\\\ankur\\\\pixel_tests\\\\test.png\")\n",
      "im2 = im.convert(mode = \"L\")\n",
      "\n",
      "nx,ny =  im2.size\n",
      "count = 0\n",
      "for y in data:\n",
      "    k = int(y)\n",
      "    for x in range(nx):\n",
      "        xy = (x,k)\n",
      "        im2.putpixel(xy,0)\n",
      "        im2.putpixel((x,17),0)\n",
      "        im2.putpixel((x,64),0)\n",
      "'''\n",
      "        im2.putpixel((x,30),255)\n",
      "        im2.putpixel((x,31),255)\n",
      "        im2.putpixel((x,32),255)\n",
      "        im2.putpixel((x,33),255)\n",
      "'''\n",
      "im2.save(\"D:\\\\Dropbox\\\\ankur\\\\pixel_tests\\\\boundary_markers.png\")\n",
      "#im2.show()"
     ],
     "language": "python",
     "metadata": {},
     "outputs": [],
     "prompt_number": 29
    }
   ],
   "metadata": {}
  }
 ]
}