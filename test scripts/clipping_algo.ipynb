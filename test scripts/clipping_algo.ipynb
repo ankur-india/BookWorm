{
 "metadata": {
  "name": "clipping_algo.ipynb"
 },
 "nbformat": 3,
 "nbformat_minor": 0,
 "worksheets": [
  {
   "cells": [
    {
     "cell_type": "heading",
     "level": 1,
     "metadata": {},
     "source": [
      "Read Image"
     ]
    },
    {
     "cell_type": "code",
     "collapsed": false,
     "input": [
      "from PIL import Image, ImageDraw\n",
      "import csv as csv\n",
      "\n",
      "#open image and convert to hsv\n",
      "location  = \"D:\\\\Dropbox\\\\ankur\\\\pixel_tests\\\\\"\n",
      "imFile = \"test.png\"\n",
      "im = Image.open(location + imFile)\n",
      "im2 = im.convert(mode = \"L\")\n",
      "#print im2.mode\n",
      "\n",
      "nx,ny =  im2.size\n",
      "#whitePixel = []\n",
      "blackPixel = []\n",
      "\n",
      "i = 1\n",
      "#chech the pixels\n",
      "for y in range(ny):\n",
      "    whiteCount = 0\n",
      "    blackCount = 0\n",
      "    for x in range(nx):\n",
      "        xy = (x,y)\n",
      "        pix = im2.getpixel(xy)\n",
      "        if pix == 255: #255 is for white\n",
      "            #whitePixel.append(xy)\n",
      "            whiteCount += 1\n",
      "            #im2.putpixel(xy,1) #used to crudely invert the image\n",
      "        else :\n",
      "            blackCount += 1\n",
      "            #blackPixel.append(xy)\n",
      "    if blackCount >= (0.05 *nx):\n",
      "        blackPixel.append((i,y,blackCount))\n",
      "        i = i +1\n",
      "\n",
      "file = csv.writer(open(location + \"test.csv\",\"wb\"))\n",
      "\n",
      "for each in blackPixel:\n",
      "    file.writerow(each)\n"
     ],
     "language": "python",
     "metadata": {},
     "outputs": [],
     "prompt_number": 1
    },
    {
     "cell_type": "heading",
     "level": 1,
     "metadata": {},
     "source": [
      "Detect Line"
     ]
    },
    {
     "cell_type": "code",
     "collapsed": false,
     "input": [
      "import numpy as np\n",
      "import csv as csv\n",
      "from operator import itemgetter\n",
      "\n",
      "file = csv.reader(open(\"D:\\\\Dropbox\\\\ankur\\\\pixel_tests\\\\test.csv\",\"rb\"))\n",
      "data = []\n",
      "for row in file:\n",
      "    data.append(row)\n",
      "\n",
      "upIndex = []\n",
      "downIndex = []\n",
      "prev = int(data[0][1]) -1\n",
      "index = int(data[0][0])\n",
      "downIndex.append(index)\n",
      "\n",
      "#find indices of white gaps around and between lines\n",
      "for row in data:\n",
      "    if prev == int(row[1])-1 :\n",
      "        prev = int(row[1])\n",
      "        index = int(row[0])\n",
      "        \n",
      "    else :\n",
      "        upIndex.append(index)\n",
      "        downIndex.append(index+1)\n",
      "        prev = int(row[1])\n",
      "\n",
      "l = len(data) -1\n",
      "index = int(data[l][0])\n",
      "upIndex.append(index)\n",
      "\n",
      "dark = []\n",
      "size = np.size(upIndex)\n",
      "\n",
      "for i in range(size):\n",
      "    low = downIndex[i]\n",
      "    high = int(upIndex[i])+1\n",
      "    g = []\n",
      "    k = []\n",
      "    print (low,high)\n",
      "    g = data[low:high]\n",
      "    #print g\n",
      "    #k = sorted(g, key=lambda g:g[2]) # method a\n",
      "    item = g[0]\n",
      "    k=g[0][2]\n",
      "    for row in g:\n",
      "        if (int(k) > int(row[2])):\n",
      "            item = row\n",
      "            k = row[2]\n",
      "    print item #method b\n",
      "    \n",
      "    #k = max(g, key =itemgetter(2)) #method c\n",
      "    dark.append(k)\n",
      "    \n",
      "print dark\n",
      "#write dark-line y-coordinates and pixelcount to a file\n",
      "file2 = csv.writer(open(\"D:\\\\Dropbox\\\\ankur\\\\pixel_tests\\\\test_dark.csv\",\"wb\"))\n",
      "for each in dark:\n",
      "    file2.writerow(each)"
     ],
     "language": "python",
     "metadata": {},
     "outputs": [
      {
       "output_type": "stream",
       "stream": "stdout",
       "text": [
        "(1, 49)\n",
        "['2', '18', '42']\n",
        "['42']\n"
       ]
      }
     ],
     "prompt_number": 1
    },
    {
     "cell_type": "heading",
     "level": 1,
     "metadata": {},
     "source": [
      "Whitewash"
     ]
    },
    {
     "cell_type": "code",
     "collapsed": false,
     "input": [
      "from PIL import Image, ImageDraw\n",
      "import numpy as np\n",
      "import csv as csv\n",
      "\n",
      "#open dark-line coordinates\n",
      "file = csv.reader(open(\"D:\\\\Dropbox\\\\ankur\\\\pixel_tests\\\\test_dark_12072013.csv\",\"rb\"))\n",
      "data = []\n",
      "for row in file:\n",
      "    data.append(row[1])\n",
      "print data\n",
      "\n",
      "#open image and convert to hsv\n",
      "im = Image.open(\"D:\\\\Dropbox\\\\ankur\\\\pixel_tests\\\\test.png\")\n",
      "im2 = im.convert(mode = \"L\")\n",
      "\n",
      "nx,ny =  im2.size\n",
      "count = 0\n",
      "for y in data:\n",
      "    k = int(y)\n",
      "    for x in range(nx):\n",
      "        xy = (x,k)\n",
      "        im2.putpixel(xy,255)\n",
      "        im2.putpixel((x,int(y)+1),255)\n",
      "        im2.putpixel((x,int(y)+2),255)\n",
      "        im2.putpixel((x,int(y)-1),255) #padding  #TO DO : fix for limits\n",
      "'''\n",
      "        im2.putpixel((x,30),255)\n",
      "        im2.putpixel((x,31),255)\n",
      "        im2.putpixel((x,32),255)\n",
      "        im2.putpixel((x,33),255)\n",
      "'''\n",
      "im2.save(\"D:\\\\Dropbox\\\\ankur\\\\pixel_tests\\\\boundary_markers_12072013.png\")\n",
      "im2.show()"
     ],
     "language": "python",
     "metadata": {},
     "outputs": [
      {
       "output_type": "stream",
       "stream": "stdout",
       "text": [
        "['31']\n"
       ]
      }
     ],
     "prompt_number": 2
    },
    {
     "cell_type": "code",
     "collapsed": false,
     "input": [],
     "language": "python",
     "metadata": {},
     "outputs": []
    }
   ],
   "metadata": {}
  }
 ]
}