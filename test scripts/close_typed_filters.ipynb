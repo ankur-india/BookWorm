{
 "metadata": {
  "name": "close_typed_filters.ipynb"
 },
 "nbformat": 3,
 "nbformat_minor": 0,
 "worksheets": [
  {
   "cells": [
    {
     "cell_type": "heading",
     "level": 1,
     "metadata": {},
     "source": [
      "PIL and Scikit Image Test"
     ]
    },
    {
     "cell_type": "heading",
     "level": 1,
     "metadata": {},
     "source": [
      "Basic Manipulation tests"
     ]
    },
    {
     "cell_type": "code",
     "collapsed": true,
     "input": [
      "#resize the picture\n",
      "\n",
      "from PIL import Image\n",
      "\n",
      "location = \"D:\\\\Dropbox\\\\ankur\\\\newspaper\\\\\"\n",
      "imFile = \"test1.png\"\n",
      "im = Image.open(location + imFile)\n",
      "nx,ny = im.size\n",
      "img = im.resize((int(nx*10), int(ny*10)), Image.BICUBIC)\n",
      "#img.show()\n",
      "img.save(location + imFile+\"_resized.png\",dpi=(2500,2500))\n"
     ],
     "language": "python",
     "metadata": {},
     "outputs": [],
     "prompt_number": 5
    },
    {
     "cell_type": "heading",
     "level": 1,
     "metadata": {},
     "source": [
      "perform adaptive thresholding"
     ]
    },
    {
     "cell_type": "code",
     "collapsed": false,
     "input": [
      "import Image\n",
      "from skimage.filter import threshold_adaptive\n",
      "import numpy as np\n",
      "\n",
      "location = \"D:\\\\Dropbox\\\\ankur\\\\newspaper\\\\\"\n",
      "imFile = \"test1.png_resized.png\"\n",
      "im2 = Image.open(location + imFile)\n",
      "im = im2.convert(mode = \"L\")\n",
      "imData = np.array(im)\n",
      "\n",
      "block_size = 40\n",
      "binary_adaptive = threshold_adaptive(imData, block_size, offset=10)\n",
      "#imshow(binary_adaptive)\n",
      "imsave(location + imFile + \"_denoised.png\", binary_adaptive)\n"
     ],
     "language": "python",
     "metadata": {},
     "outputs": [],
     "prompt_number": 1
    },
    {
     "cell_type": "heading",
     "level": 1,
     "metadata": {},
     "source": [
      "perform skeltonize"
     ]
    },
    {
     "cell_type": "code",
     "collapsed": false,
     "input": [
      "import numpy as np\n",
      "from skimage.morphology import skeletonize\n",
      "\n",
      "location = \"D:\\\\Dropbox\\\\ankur\\\\newspaper\\\\\"\n",
      "imFile = \"test1_new3.png\"\n",
      "im2 = Image.open(location + imFile)\n",
      "\n",
      "im = im2.convert(mode = \"L\")\n",
      "imData = np.array(im)\n",
      "\n",
      "block_size = 40\n",
      "binary_adaptive = threshold_adaptive(imData, block_size, offset=10)\n",
      "\n",
      "skeleton = skeletonize(binary_adaptive)\n",
      "#imshow(skeleton)\n",
      "imsave(location + imFile + \"_skeleton.png\", skeleton)\n"
     ],
     "language": "python",
     "metadata": {},
     "outputs": [],
     "prompt_number": "*"
    },
    {
     "cell_type": "heading",
     "level": 1,
     "metadata": {},
     "source": [
      "Reading Pixel information"
     ]
    },
    {
     "cell_type": "code",
     "collapsed": false,
     "input": [
      "from PIL import Image, ImageDraw\n",
      "import csv as csv\n",
      "\n",
      "#open image and convert to hsv\n",
      "location = \"D:\\\\Dropbox\\\\ankur\\\\pixel_tests\\\\\"\n",
      "imFile = \"test.png\"\n",
      "im = Image.open(location + imFile)\n",
      "im2 = im.convert(mode = \"L\") #TO DO :maybe add a check before conversion\n",
      "\n",
      "nx,ny =  im2.size\n",
      "#whitePixel = []\n",
      "blackPixel = []\n",
      "\n",
      "i = 1\n",
      "#chech the pixel colors\n",
      "for y in range(ny):\n",
      "    whiteCount = 0\n",
      "    blackCount = 0\n",
      "    for x in range(nx):\n",
      "        xy = (x,y)\n",
      "        pix = im2.getpixel(xy)\n",
      "        if pix == 255: #255 is for white\n",
      "            #whitePixel.append(xy)\n",
      "            whiteCount += 1\n",
      "            #im2.putpixel(xy,1) #used to crudely invert the image\n",
      "        else :\n",
      "            blackCount += 1\n",
      "            #blackPixel.append(xy)\n",
      "    if blackCount >= (0.05 *nx):\n",
      "        blackPixel.append((i,y,blackCount))\n",
      "        i = i +1\n",
      "\n",
      "#write pixel information to file\n",
      "file = csv.writer(open(location + \"test.csv\",\"wb\"))\n",
      "\n",
      "for each in blackPixel:\n",
      "    file.writerow(each)\n"
     ],
     "language": "python",
     "metadata": {},
     "outputs": [],
     "prompt_number": 3
    },
    {
     "cell_type": "heading",
     "level": 1,
     "metadata": {},
     "source": [
      "Basic Pixel Manipulation - Line Detection"
     ]
    },
    {
     "cell_type": "code",
     "collapsed": false,
     "input": [
      "import csv as csv\n",
      "from operator import itemgetter # required for \"method C\"\n",
      "\n",
      "location = \"D:\\\\Dropbox\\\\ankur\\\\pixel_tests\\\\\"\n",
      "dataFile = \"test.csv\"\n",
      "file = csv.reader(open(location + dataFile,\"rb\"))\n",
      "\n",
      "data = []\n",
      "for row in file:\n",
      "    data.append(row)\n",
      "\n",
      "upIndex = []\n",
      "downIndex = []\n",
      "prev = int(data[0][1]) -1\n",
      "index = int(data[0][0])\n",
      "downIndex.append(index)\n",
      "\n",
      "#find indices of white gaps around and between lines\n",
      "for row in data:\n",
      "    if prev == int(row[1]) -1: \n",
      "        prev = int(row[1])\n",
      "        index = int(row[0])\n",
      "        \n",
      "    else :\n",
      "        upIndex.append(index)\n",
      "        downIndex.append(index+1)\n",
      "        prev = int(row[1])\n",
      "\n",
      "l = len(data) -1\n",
      "index = int(data[l][0])\n",
      "upIndex.append(index)\n",
      "\n",
      "dark = []\n",
      "size = np.size(upIndex)\n",
      "\n",
      "for i in range(size):\n",
      "    low = downIndex[i]\n",
      "    high = int(upIndex[i])+1\n",
      "    g = []\n",
      "    k = []\n",
      "    g = data[low:high]\n",
      "    #print g\n",
      "    #k = sorted(g, key=lambda g:g[2]) # method a\n",
      "    '''\n",
      "    k=0\n",
      "    for row in g:\n",
      "       if k < row[2]:\n",
      "            k = row[2]\n",
      "            item = row\n",
      "    print item #method b\n",
      "    '''\n",
      "    k = max(g, key =itemgetter(2)) #method c\n",
      "    dark.append(k)\n",
      "    \n",
      "#print dark\n",
      "\n",
      "#write dark-line y-coordinates and pixelcount to a file\n",
      "file2 = csv.writer(open(location + \"test_dark.csv\",\"wb\"))\n",
      "for each in dark:\n",
      "    file2.writerow(each)"
     ],
     "language": "python",
     "metadata": {},
     "outputs": [
      {
       "ename": "IndexError",
       "evalue": "list index out of range",
       "output_type": "pyerr",
       "traceback": [
        "\u001b[1;31m---------------------------------------------------------------------------\u001b[0m\n\u001b[1;31mIndexError\u001b[0m                                Traceback (most recent call last)",
        "\u001b[1;32m<ipython-input-10-b426841c19a8>\u001b[0m in \u001b[0;36m<module>\u001b[1;34m()\u001b[0m\n\u001b[0;32m      9\u001b[0m \u001b[0mupIndex\u001b[0m \u001b[1;33m=\u001b[0m \u001b[1;33m[\u001b[0m\u001b[1;33m]\u001b[0m\u001b[1;33m\u001b[0m\u001b[0m\n\u001b[0;32m     10\u001b[0m \u001b[0mdownIndex\u001b[0m \u001b[1;33m=\u001b[0m \u001b[1;33m[\u001b[0m\u001b[1;33m]\u001b[0m\u001b[1;33m\u001b[0m\u001b[0m\n\u001b[1;32m---> 11\u001b[1;33m \u001b[0mprev\u001b[0m \u001b[1;33m=\u001b[0m \u001b[0mint\u001b[0m\u001b[1;33m(\u001b[0m\u001b[0mdata\u001b[0m\u001b[1;33m[\u001b[0m\u001b[1;36m0\u001b[0m\u001b[1;33m]\u001b[0m\u001b[1;33m[\u001b[0m\u001b[1;36m1\u001b[0m\u001b[1;33m]\u001b[0m\u001b[1;33m)\u001b[0m \u001b[1;33m-\u001b[0m\u001b[1;36m1\u001b[0m\u001b[1;33m\u001b[0m\u001b[0m\n\u001b[0m\u001b[0;32m     12\u001b[0m \u001b[0mindex\u001b[0m \u001b[1;33m=\u001b[0m \u001b[0mint\u001b[0m\u001b[1;33m(\u001b[0m\u001b[0mdata\u001b[0m\u001b[1;33m[\u001b[0m\u001b[1;36m0\u001b[0m\u001b[1;33m]\u001b[0m\u001b[1;33m[\u001b[0m\u001b[1;36m0\u001b[0m\u001b[1;33m]\u001b[0m\u001b[1;33m)\u001b[0m\u001b[1;33m\u001b[0m\u001b[0m\n\u001b[0;32m     13\u001b[0m \u001b[0mdownIndex\u001b[0m\u001b[1;33m.\u001b[0m\u001b[0mappend\u001b[0m\u001b[1;33m(\u001b[0m\u001b[0mindex\u001b[0m\u001b[1;33m)\u001b[0m\u001b[1;33m\u001b[0m\u001b[0m\n",
        "\u001b[1;31mIndexError\u001b[0m: list index out of range"
       ]
      }
     ],
     "prompt_number": 10
    },
    {
     "cell_type": "heading",
     "level": 1,
     "metadata": {},
     "source": [
      "Manipulate the darklines - make white"
     ]
    },
    {
     "cell_type": "code",
     "collapsed": false,
     "input": [
      "from PIL import Image, ImageDraw\n",
      "import csv as csv\n",
      "\n",
      "#open dark-line coordinates\n",
      "location = \"D:\\\\Dropbox\\\\ankur\\\\pixel_tests\\\\\"\n",
      "dataFile = \"test_dark.csv\"\n",
      "file = csv.reader(open(location + dataFile,\"rb\"))\n",
      "\n",
      "data = []\n",
      "for row in file:\n",
      "    data.append(row[1])\n",
      "\n",
      "#open image and convert to hsv\n",
      "im = Image.open(\"D:\\\\Dropbox\\\\ankur\\\\pixel_tests\\\\test.png\")\n",
      "im2 = im.convert(mode = \"L\")\n",
      "\n",
      "nx,ny =  im2.size\n",
      "count = 0\n",
      "for y in data:\n",
      "    k = int(y)\n",
      "    for x in range(nx):\n",
      "        xy = (x,k)\n",
      "        im2.putpixel(xy,0)\n",
      "\n",
      "#save the new, whitewashed image\n",
      "im2.save(location + \"test_washed.png\")\n",
      "#im2.show()"
     ],
     "language": "python",
     "metadata": {},
     "outputs": [],
     "prompt_number": 10
    },
    {
     "cell_type": "code",
     "collapsed": false,
     "input": [],
     "language": "python",
     "metadata": {},
     "outputs": []
    }
   ],
   "metadata": {}
  }
 ]
}