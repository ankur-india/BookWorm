{
 "metadata": {
  "name": "makebig.ipynb"
 },
 "nbformat": 3,
 "nbformat_minor": 0,
 "worksheets": [
  {
   "cells": [
    {
     "cell_type": "heading",
     "level": 1,
     "metadata": {},
     "source": [
      "MakeBig"
     ]
    },
    {
     "cell_type": "code",
     "collapsed": false,
     "input": [
      "from PIL import Image\n",
      "import glob\n",
      "\n",
      "path = \"D:\\\\Dropbox\\\\ankur\\\\box_images\\\\bigbox\\\\Bangla_big.images\\\\\"\n",
      "\n",
      "pngList = glob.glob(path+\"*.png\")\n",
      "print size(pngList)\n",
      "\n",
      "for each in pngList:\n",
      "    nx,ny = im.size\n",
      "    "
     ],
     "language": "python",
     "metadata": {},
     "outputs": []
    }
   ],
   "metadata": {}
  }
 ]
}